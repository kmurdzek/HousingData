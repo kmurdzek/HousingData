{
  "nbformat": 4,
  "nbformat_minor": 0,
  "metadata": {
    "colab": {
      "name": "HousingData.ipynb",
      "provenance": [],
      "collapsed_sections": [],
      "authorship_tag": "ABX9TyPqiEI8r6HxYZ6RGDakMCjc",
      "include_colab_link": true
    },
    "kernelspec": {
      "name": "python3",
      "display_name": "Python 3"
    },
    "language_info": {
      "name": "python"
    }
  },
  "cells": [
    {
      "cell_type": "markdown",
      "metadata": {
        "id": "view-in-github",
        "colab_type": "text"
      },
      "source": [
        "<a href=\"https://colab.research.google.com/github/kmurdzek/HousingData/blob/main/HousingData.ipynb\" target=\"_parent\"><img src=\"https://colab.research.google.com/assets/colab-badge.svg\" alt=\"Open In Colab\"/></a>"
      ]
    },
    {
      "cell_type": "code",
      "execution_count": 9,
      "metadata": {
        "colab": {
          "base_uri": "https://localhost:8080/"
        },
        "id": "p_u1lt8X9NFK",
        "outputId": "37dae4cd-0f35-427b-965c-32d21883702d"
      },
      "outputs": [
        {
          "output_type": "stream",
          "name": "stdout",
          "text": [
            "Authenticated\n"
          ]
        }
      ],
      "source": [
        "from google.colab import auth\n",
        "auth.authenticate_user()\n",
        "print('Authenticated')"
      ]
    },
    {
      "cell_type": "markdown",
      "source": [
        ""
      ],
      "metadata": {
        "id": "-qlWIrpX8U0E"
      }
    },
    {
      "cell_type": "code",
      "source": [
        "!pip install --upgrade google-cloud-bigquery\n",
        "!export GOOGLE_APPLICATION_CREDENTIALS='/content/housing-project-351117-3c3b2a57bb4d.json'\n",
        "#https://cloud.google.com/bigquery/docs/quickstarts/quickstart-client-libraries"
      ],
      "metadata": {
        "id": "hVn-wwJLcLmu"
      },
      "execution_count": null,
      "outputs": []
    },
    {
      "cell_type": "code",
      "source": [
        "\n",
        "project_id = 'housing-project-351117'\n",
        "from google.cloud import bigquery\n",
        "sample_count = 2000\n",
        "client = bigquery.Client(project=project_id)\n",
        "# make queries to identify useful data\n",
        "# get the average home sale price per year\n",
        "# get the average home sale price of homes of a particular square footage per year\n",
        "choice = input(\"Choose a following option by entering the number associated with the option.\\n 1. Get the average home sale price in a given year.\\n 2. Get the average home sale price for a house with given number of beds/baths.\\n 3. Provide your budget to see what kind of homes you'd be able to afford.\\n\")\n",
        "\n",
        "if choice == \"1\":\n",
        "  year = input(\"Enter the year you want the average home sale price for : \")\n",
        "  sql = \"SELECT AVG(SalePrice) as AverageSale FROM `housing-project-351117.housing.housing_data` WHERE YrSold = {}\".format(year)\n",
        "  average_sale_price = client.query(sql)\n",
        "  result = average_sale_price.result()\n",
        "  for row in result:\n",
        "    if row.AverageSale is None:\n",
        "      print(\"Unable to find provide an average for the given year\")\n",
        "      break\n",
        "    formatted = \"${:,.2f}\".format(row.AverageSale)\n",
        "    print(\"Average sale price in {}: {}\".format(year, formatted))\n",
        "elif(choice == \"2\"):\n",
        "  bedrooms = input(\"Enter the desired minimum number of bedrooms: \\n\")\n",
        "  bathrooms = input(\"Enter the desired minimum number of bathrooms: \\n\")\n",
        "  sql = \"SELECT Avg(SalePrice) as AverageSale FROM `housing-project-351117.housing.housing_data` WHERE FullBath + HalfBath >= {} AND BedroomAbvGr >= {}\".format(bathrooms, bedrooms);\n",
        "  average_sale_price = client.query(sql)\n",
        "  result = average_sale_price.result()\n",
        "  for row in result:\n",
        "    if row.AverageSale is None:\n",
        "      print(\"No data fits the entered criteria\")\n",
        "      break\n",
        "    formatted = \"${:,.2f}\".format(row.AverageSale)\n",
        "    print(\"Average sale price of home with atleast {} bedrooms and {} bathrooms: {}\".format(bedrooms, bathrooms, formatted))\n",
        "elif choice == \"3\":\n",
        "  budget = input(\"Enter your budget: \\n\")\n",
        "  bedrooms = input(\"Enter the desired minimum number of bedrooms: \\n\")\n",
        "  bathrooms = input(\"Enter the desired minimum number of bathrooms: \\n\")\n",
        "  sql = \"SELECT Id, SalePrice, HalfBath, FullBath, BedroomAbvGr, LotArea, YrSold FROM `housing-project-351117.housing.housing_data` WHERE SalePrice < {} AND HalfBath + FullBath >= {} AND BedroomAbvGr >= {}\".format(budget, bedrooms, bathrooms)\n",
        "  data = client.query(sql)\n",
        "  result = data.result()\n",
        "  for row in result:\n",
        "    if row.Id is None:\n",
        "      print(\"Unable to find houses with your given budget or criteria\")\n",
        "      break\n",
        "    formatted = \"${:,.2f}\".format(row.SalePrice)\n",
        "    totalBathrooms = row.HalfBath + row.FullBath\n",
        "    print(\"House ID: {}, Sale Price: {}, Number of Bathrooms {}, Number of Bedrooms {}, Lot Size {}, Year sold {}\". format(row.Id, formatted, totalBathrooms, row.BedroomAbvGr, row.LotArea, row.YrSold))\n",
        "  option = input(\"Would you like the average values for each of the above data points?\\n 1. yes \\t 2. no\\n\")\n",
        "  if option == \"1\":\n",
        "    sql = \"SELECT AVG(SalePrice) as averageSale,AVG(HalfBath) as averageHalfBath, AVG(FullBath) as averageFullBath, AVG(BedroomAbvGr) as bedroomAvg, AVG(LotArea) as lotAvg FROM `housing-project-351117.housing.housing_data` WHERE SalePrice < {} AND HalfBath + FullBath >= {} AND BedroomAbvGr >= {}\".format(budget, bedrooms, bathrooms)\n",
        "    data = client.query(sql)\n",
        "    result = data.result()\n",
        "    for row in result:\n",
        "      if row.averageSale is None:\n",
        "        print(\"Data cannot be gathered\")\n",
        "      formatted = \"${:,.2f}\".format(row.averageSale)\n",
        "      totalBathroomAverage = row.averageHalfBath + row.averageFullBath\n",
        "      print(\"The average sale price with your criteria is: {}, Average Number of Bathrooms: {}, Average Number of Bedrooms: {}, Average Lot Area: {} sq ft\".format(formatted, round(totalBathroomAverage), round(row.bedroomAvg), round(row.lotAvg)))\n",
        "  else:\n",
        "    pass\n",
        "else:\n",
        "  pass\n",
        "  print('Invalid Option')\n"
      ],
      "metadata": {
        "id": "BhUTuhky9d8Y"
      },
      "execution_count": null,
      "outputs": []
    }
  ]
}